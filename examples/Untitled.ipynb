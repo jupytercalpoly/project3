{
 "cells": [
  {
   "cell_type": "markdown",
   "id": "pursuant-diagnosis",
   "metadata": {
    "presto": {
     "id": "5888274f-caac-4f20-8c7e-f809ea38a475"
    },
    "tags": []
   },
   "source": [
    "# Example dashboard\n",
    "Hey, this is an example"
   ]
  },
  {
   "cell_type": "code",
   "execution_count": 1,
   "id": "developmental-scratch",
   "metadata": {
    "presto": {
     "id": "569a1755-d78f-4b59-acc9-cd868b66e48b"
    },
    "tags": []
   },
   "outputs": [
    {
     "name": "stdout",
     "output_type": "stream",
     "text": [
      "Hello world!\n"
     ]
    }
   ],
   "source": [
    "print('Hello world!')"
   ]
  },
  {
   "cell_type": "code",
   "execution_count": null,
   "id": "disturbed-observation",
   "metadata": {},
   "outputs": [],
   "source": []
  }
 ],
 "metadata": {
  "kernelspec": {
   "display_name": "Python 3",
   "language": "python",
   "name": "python3"
  },
  "language_info": {
   "codemirror_mode": {
    "name": "ipython",
    "version": 3
   },
   "file_extension": ".py",
   "mimetype": "text/x-python",
   "name": "python",
   "nbconvert_exporter": "python",
   "pygments_lexer": "ipython3",
   "version": "3.8.8"
  },
  "presto": {
   "id": "3e4809c3-eb19-4b33-9ec5-44634d019200"
  }
 },
 "nbformat": 4,
 "nbformat_minor": 5
}
